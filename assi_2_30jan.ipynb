{
 "cells": [
  {
   "cell_type": "code",
   "execution_count": 11,
   "id": "0b21341f-8738-4e90-b6ac-1ac51f42c24c",
   "metadata": {},
   "outputs": [
    {
     "name": "stdin",
     "output_type": "stream",
     "text": [
      "Enter your percentage  85\n"
     ]
    },
    {
     "name": "stdout",
     "output_type": "stream",
     "text": [
      "Grade B\n"
     ]
    }
   ],
   "source": [
    "#Que 1 :diaplay the grade \n",
    "percentage = int(input(\"Enter your percentage \"))\n",
    "if percentage > 90 :\n",
    "    print(\" Grade A\")\n",
    "elif percentage >80 and percentage <= 90 :\n",
    "     print(\"Grade B\")\n",
    "elif percentage >=60 and  percentage <=80 :\n",
    "           print(\"Grade C \")\n",
    "else :\n",
    "    print(\"Grade D\")"
   ]
  },
  {
   "cell_type": "code",
   "execution_count": 26,
   "id": "076776d3-86c7-48c6-b77b-3de76fdd90a1",
   "metadata": {},
   "outputs": [
    {
     "name": "stdin",
     "output_type": "stream",
     "text": [
      "Enter a price of the bike 89000\n"
     ]
    },
    {
     "name": "stdout",
     "output_type": "stream",
     "text": [
      "you paid a tax 8900.0 RS \n"
     ]
    }
   ],
   "source": [
    "# Que 2 :tax paid \n",
    "cost_price = int(input(\"Enter a price of the bike\" ))\n",
    "if cost_price > 100000:\n",
    "    tax = (cost_price/100)*15\n",
    "    print(\" you paid a tax {} RS \".format(tax))\n",
    "elif cost_price >50000 and cost_price<=100000:\n",
    "    tax = (cost_price/100 )*10\n",
    "    print(\"you paid a tax {} RS \".format(tax))\n",
    "else :\n",
    "    tax =(cost_price/100)*5\n",
    "    print(\"you paid a tax {} Rs \".format(tax))\n",
    "          \n",
    "                       "
   ]
  },
  {
   "cell_type": "code",
   "execution_count": 2,
   "id": "1959c57d-4a5f-425e-b6fd-1d769c07d442",
   "metadata": {},
   "outputs": [
    {
     "name": "stdin",
     "output_type": "stream",
     "text": [
      "Enter a city name:  Delhi\n"
     ]
    },
    {
     "name": "stdout",
     "output_type": "stream",
     "text": [
      "Red Frot\n"
     ]
    }
   ],
   "source": [
    "# Que 3 : display monumnets \n",
    "city = input(\"Enter a city name: \")\n",
    "\n",
    "if city == \"Delhi\":\n",
    "    print(\"Red Frot\")\n",
    "elif city == \"Agra\":\n",
    "    print(\"Taj Mahal\")\n",
    "elif city ==\"Jaipur\":\n",
    "    print(\"Jal Manal\")\n",
    "else :\n",
    "    print(\"You enter a worng city or worng spelling\")\n"
   ]
  },
  {
   "cell_type": "code",
   "execution_count": 20,
   "id": "77198e2c-689a-4cc2-a20d-a9fa66820999",
   "metadata": {},
   "outputs": [
    {
     "name": "stdin",
     "output_type": "stream",
     "text": [
      "Enter a number : 69874\n"
     ]
    },
    {
     "name": "stdout",
     "output_type": "stream",
     "text": [
      "9\n"
     ]
    }
   ],
   "source": [
    "# Que 4 : check how many times given number divide by 3 before it is less than 10 \n",
    "\n",
    "num = int(input(\"Enter a number :\"))\n",
    "count = 0 \n",
    "while(num>=10):\n",
    "    num =num /3 \n",
    "    count = count + 1 \n",
    "    \n",
    "print(count)\n",
    "    "
   ]
  },
  {
   "cell_type": "code",
   "execution_count": 23,
   "id": "00b0ba56-6bfc-4228-871f-976261836f1d",
   "metadata": {},
   "outputs": [
    {
     "name": "stdout",
     "output_type": "stream",
     "text": [
      "45 44 43 42 41 40 39 38 37 36 35 34 33 32 31 30 29 28 27 26 25 24 23 22 21 20 19 18 17 16 15 14 13 12 11 10 9 8 7 6 5 4 3 2 1 "
     ]
    }
   ],
   "source": [
    "# Que 5 : when to use while loop in python \n",
    "\n",
    "\"\"\" we use while loop in python when we have to run a code until condition is satisfied \"\"\"\n",
    "\" run a block of code until condition is satisfied \"\n",
    "# Example \n",
    "\n",
    "# we have to print number in decending order from a given number \n",
    "a =45 \n",
    "while (a>0):\n",
    "    print(a ,end = \" \")\n",
    "    a = a-1 \n"
   ]
  },
  {
   "cell_type": "code",
   "execution_count": 27,
   "id": "42b7c0c3-fef1-433d-9202-5a71a7ba4122",
   "metadata": {},
   "outputs": [
    {
     "name": "stdout",
     "output_type": "stream",
     "text": [
      "0 1 2 3 4 5 \n",
      "0 2 4 6 8 10 \n",
      "0 3 6 9 12 15 \n",
      "0 4 8 12 16 20 \n",
      "0 5 10 15 20 25 \n"
     ]
    }
   ],
   "source": [
    "# que 6: nested while loop \n",
    "# while loop inside another while loop.\n",
    "i = 1\n",
    "while i <= 5:\n",
    "    j = 0\n",
    "    while  j <= 5 :\n",
    "        print(i*j, end=\" \")\n",
    "        j += 1\n",
    "    print()\n",
    "    i += 1"
   ]
  },
  {
   "cell_type": "code",
   "execution_count": 28,
   "id": "a4408e0f-3de1-46e0-b527-800e2558cb4c",
   "metadata": {},
   "outputs": [
    {
     "name": "stdout",
     "output_type": "stream",
     "text": [
      "0 0 0 0 0 0 \n",
      "0 1 2 3 4 5 \n",
      "0 2 4 6 8 10 \n",
      "0 3 6 9 12 15 \n",
      "\n",
      "0 0 0 0 0 0 \n",
      "0 2 4 6 8 10 \n",
      "0 4 8 12 16 20 \n",
      "0 6 12 18 24 30 \n",
      "\n",
      "0 0 0 0 0 0 \n",
      "0 3 6 9 12 15 \n",
      "0 6 12 18 24 30 \n",
      "0 9 18 27 36 45 \n",
      "\n",
      "0 0 0 0 0 0 \n",
      "0 4 8 12 16 20 \n",
      "0 8 16 24 32 40 \n",
      "0 12 24 36 48 60 \n",
      "\n"
     ]
    }
   ],
   "source": [
    "# Que 6 : nested while loop \n",
    "# while loop inside a 2 while loops \n",
    "i = 1\n",
    "while i <= 4 :\n",
    "    j = 0\n",
    "    while  j <= 3 :\n",
    "        k = 0\n",
    "        while  k <= 5 :\n",
    "            print(i*j*k, end=\" \")\n",
    "            k += 1\n",
    "        print()\n",
    "        j += 1\n",
    "    print()\n",
    "    i += 1"
   ]
  },
  {
   "cell_type": "code",
   "execution_count": 29,
   "id": "2d9c2632-ed96-4146-b31a-9e0f45771329",
   "metadata": {},
   "outputs": [
    {
     "name": "stdout",
     "output_type": "stream",
     "text": [
      "10\n",
      "9\n",
      "8\n",
      "7\n",
      "6\n",
      "5\n",
      "4\n",
      "3\n",
      "2\n",
      "1\n"
     ]
    }
   ],
   "source": [
    "# Que 7 : reverse a while loop \n",
    "a = 10 \n",
    "while(a>0):\n",
    "    print(a)\n",
    "    a= a-1 \n",
    "    "
   ]
  },
  {
   "cell_type": "code",
   "execution_count": null,
   "id": "08a76dbd-d1ea-4112-8be0-2a24c9947a37",
   "metadata": {},
   "outputs": [],
   "source": [
    "# Que 8 is same as "
   ]
  }
 ],
 "metadata": {
  "kernelspec": {
   "display_name": "Python 3 (ipykernel)",
   "language": "python",
   "name": "python3"
  },
  "language_info": {
   "codemirror_mode": {
    "name": "ipython",
    "version": 3
   },
   "file_extension": ".py",
   "mimetype": "text/x-python",
   "name": "python",
   "nbconvert_exporter": "python",
   "pygments_lexer": "ipython3",
   "version": "3.10.8"
  }
 },
 "nbformat": 4,
 "nbformat_minor": 5
}
